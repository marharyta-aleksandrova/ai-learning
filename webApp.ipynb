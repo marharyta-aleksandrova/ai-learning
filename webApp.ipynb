{
 "cells": [
  {
   "cell_type": "code",
   "execution_count": 1,
   "metadata": {},
   "outputs": [
    {
     "name": "stderr",
     "output_type": "stream",
     "text": [
      "ERROR: pip's dependency resolver does not currently take into account all the packages that are installed. This behaviour is the source of the following dependency conflicts.\n",
      "voila 0.3.1 requires nbconvert<7,>=6.0.0, but you have nbconvert 5.6.1 which is incompatible.\n"
     ]
    }
   ],
   "source": [
    "!pip install -Uqq fastbook"
   ]
  },
  {
   "cell_type": "code",
   "execution_count": 2,
   "metadata": {},
   "outputs": [],
   "source": [
    "from fastbook import *\n",
    "from fastai.vision.widgets import *\n",
    "from IPython.display import display"
   ]
  },
  {
   "cell_type": "code",
   "execution_count": 3,
   "metadata": {},
   "outputs": [
    {
     "name": "stdout",
     "output_type": "stream",
     "text": [
      "Requirement already satisfied: voila in e:\\programfiles\\python\\python3_7\\lib\\site-packages (0.3.1)\n",
      "Collecting nbconvert<7,>=6.0.0\n",
      "  Using cached nbconvert-6.4.1-py3-none-any.whl (557 kB)\n",
      "Requirement already satisfied: jupyter-server<2.0.0,>=0.3.0 in e:\\programfiles\\python\\python3_7\\lib\\site-packages (from voila) (1.13.3)\n",
      "Requirement already satisfied: traitlets<6,>=5.0.3 in e:\\programfiles\\python\\python3_7\\lib\\site-packages (from voila) (5.1.1)\n",
      "Requirement already satisfied: jupyter-client<8,>=6.1.3 in e:\\programfiles\\python\\python3_7\\lib\\site-packages (from voila) (6.1.12)\n",
      "Requirement already satisfied: nbclient<0.6,>=0.4.0 in e:\\programfiles\\python\\python3_7\\lib\\site-packages (from voila) (0.5.10)\n",
      "Requirement already satisfied: websockets>=9.0 in e:\\programfiles\\python\\python3_7\\lib\\site-packages (from voila) (10.1)\n",
      "Requirement already satisfied: tornado>=4.1 in e:\\programfiles\\python\\python3_7\\lib\\site-packages (from jupyter-client<8,>=6.1.3->voila) (6.1)\n",
      "Requirement already satisfied: jupyter-core>=4.6.0 in e:\\programfiles\\python\\python3_7\\lib\\site-packages (from jupyter-client<8,>=6.1.3->voila) (4.6.3)\n",
      "Requirement already satisfied: pyzmq>=13 in e:\\programfiles\\python\\python3_7\\lib\\site-packages (from jupyter-client<8,>=6.1.3->voila) (19.0.1)\n",
      "Requirement already satisfied: python-dateutil>=2.1 in e:\\programfiles\\python\\python3_7\\lib\\site-packages (from jupyter-client<8,>=6.1.3->voila) (2.8.1)\n",
      "Requirement already satisfied: Send2Trash in e:\\programfiles\\python\\python3_7\\lib\\site-packages (from jupyter-server<2.0.0,>=0.3.0->voila) (1.5.0)\n",
      "Requirement already satisfied: packaging in e:\\programfiles\\python\\python3_7\\lib\\site-packages (from jupyter-server<2.0.0,>=0.3.0->voila) (20.4)\n",
      "Requirement already satisfied: nbformat in e:\\programfiles\\python\\python3_7\\lib\\site-packages (from jupyter-server<2.0.0,>=0.3.0->voila) (5.0.6)\n",
      "Requirement already satisfied: argon2-cffi in e:\\programfiles\\python\\python3_7\\lib\\site-packages (from jupyter-server<2.0.0,>=0.3.0->voila) (20.1.0)\n",
      "Requirement already satisfied: terminado>=0.8.3 in e:\\programfiles\\python\\python3_7\\lib\\site-packages (from jupyter-server<2.0.0,>=0.3.0->voila) (0.8.3)\n",
      "Requirement already satisfied: jinja2 in e:\\programfiles\\python\\python3_7\\lib\\site-packages (from jupyter-server<2.0.0,>=0.3.0->voila) (2.11.2)\n",
      "Requirement already satisfied: websocket-client in e:\\programfiles\\python\\python3_7\\lib\\site-packages (from jupyter-server<2.0.0,>=0.3.0->voila) (1.2.3)\n",
      "Requirement already satisfied: prometheus-client in e:\\programfiles\\python\\python3_7\\lib\\site-packages (from jupyter-server<2.0.0,>=0.3.0->voila) (0.8.0)\n",
      "Requirement already satisfied: ipython-genutils in e:\\programfiles\\python\\python3_7\\lib\\site-packages (from jupyter-server<2.0.0,>=0.3.0->voila) (0.2.0)\n",
      "Requirement already satisfied: anyio<4,>=3.1.0 in e:\\programfiles\\python\\python3_7\\lib\\site-packages (from jupyter-server<2.0.0,>=0.3.0->voila) (3.5.0)\n",
      "Requirement already satisfied: nest-asyncio in e:\\programfiles\\python\\python3_7\\lib\\site-packages (from nbclient<0.6,>=0.4.0->voila) (1.5.4)\n",
      "Requirement already satisfied: pygments>=2.4.1 in e:\\programfiles\\python\\python3_7\\lib\\site-packages (from nbconvert<7,>=6.0.0->voila) (2.6.1)\n",
      "Requirement already satisfied: entrypoints>=0.2.2 in e:\\programfiles\\python\\python3_7\\lib\\site-packages (from nbconvert<7,>=6.0.0->voila) (0.3)\n",
      "Requirement already satisfied: jupyterlab-pygments in e:\\programfiles\\python\\python3_7\\lib\\site-packages (from nbconvert<7,>=6.0.0->voila) (0.1.2)\n",
      "Requirement already satisfied: defusedxml in e:\\programfiles\\python\\python3_7\\lib\\site-packages (from nbconvert<7,>=6.0.0->voila) (0.6.0)\n",
      "Requirement already satisfied: bleach in e:\\programfiles\\python\\python3_7\\lib\\site-packages (from nbconvert<7,>=6.0.0->voila) (3.1.5)\n",
      "Requirement already satisfied: testpath in e:\\programfiles\\python\\python3_7\\lib\\site-packages (from nbconvert<7,>=6.0.0->voila) (0.4.4)\n",
      "Requirement already satisfied: mistune<2,>=0.8.1 in e:\\programfiles\\python\\python3_7\\lib\\site-packages (from nbconvert<7,>=6.0.0->voila) (0.8.4)\n",
      "Requirement already satisfied: pandocfilters>=1.4.1 in e:\\programfiles\\python\\python3_7\\lib\\site-packages (from nbconvert<7,>=6.0.0->voila) (1.4.2)\n",
      "Requirement already satisfied: sniffio>=1.1 in e:\\programfiles\\python\\python3_7\\lib\\site-packages (from anyio<4,>=3.1.0->jupyter-server<2.0.0,>=0.3.0->voila) (1.2.0)\n",
      "Requirement already satisfied: typing-extensions in e:\\programfiles\\python\\python3_7\\lib\\site-packages (from anyio<4,>=3.1.0->jupyter-server<2.0.0,>=0.3.0->voila) (3.10.0.2)\n",
      "Requirement already satisfied: idna>=2.8 in e:\\programfiles\\python\\python3_7\\lib\\site-packages (from anyio<4,>=3.1.0->jupyter-server<2.0.0,>=0.3.0->voila) (2.10)\n",
      "Requirement already satisfied: MarkupSafe>=0.23 in e:\\programfiles\\python\\python3_7\\lib\\site-packages (from jinja2->jupyter-server<2.0.0,>=0.3.0->voila) (1.1.1)\n",
      "Requirement already satisfied: pywin32>=1.0 in e:\\programfiles\\python\\python3_7\\lib\\site-packages (from jupyter-core>=4.6.0->jupyter-client<8,>=6.1.3->voila) (227)\n",
      "Requirement already satisfied: jsonschema!=2.5.0,>=2.4 in e:\\programfiles\\python\\python3_7\\lib\\site-packages (from nbformat->jupyter-server<2.0.0,>=0.3.0->voila) (3.2.0)\n",
      "Requirement already satisfied: six>=1.5 in e:\\programfiles\\python\\python3_7\\lib\\site-packages (from python-dateutil>=2.1->jupyter-client<8,>=6.1.3->voila) (1.15.0)\n",
      "Requirement already satisfied: pywinpty>=0.5 in e:\\programfiles\\python\\python3_7\\lib\\site-packages (from terminado>=0.8.3->jupyter-server<2.0.0,>=0.3.0->voila) (0.5.7)\n",
      "Requirement already satisfied: cffi>=1.0.0 in e:\\programfiles\\python\\python3_7\\lib\\site-packages (from argon2-cffi->jupyter-server<2.0.0,>=0.3.0->voila) (1.14.4)\n",
      "Requirement already satisfied: webencodings in e:\\programfiles\\python\\python3_7\\lib\\site-packages (from bleach->nbconvert<7,>=6.0.0->voila) (0.5.1)\n",
      "Requirement already satisfied: pyparsing>=2.0.2 in e:\\programfiles\\python\\python3_7\\lib\\site-packages (from packaging->jupyter-server<2.0.0,>=0.3.0->voila) (2.4.7)\n",
      "Requirement already satisfied: pycparser in e:\\programfiles\\python\\python3_7\\lib\\site-packages (from cffi>=1.0.0->argon2-cffi->jupyter-server<2.0.0,>=0.3.0->voila) (2.20)\n",
      "Requirement already satisfied: attrs>=17.4.0 in e:\\programfiles\\python\\python3_7\\lib\\site-packages (from jsonschema!=2.5.0,>=2.4->nbformat->jupyter-server<2.0.0,>=0.3.0->voila) (19.3.0)\n",
      "Requirement already satisfied: pyrsistent>=0.14.0 in e:\\programfiles\\python\\python3_7\\lib\\site-packages (from jsonschema!=2.5.0,>=2.4->nbformat->jupyter-server<2.0.0,>=0.3.0->voila) (0.16.0)\n",
      "Requirement already satisfied: importlib-metadata in e:\\programfiles\\python\\python3_7\\lib\\site-packages (from jsonschema!=2.5.0,>=2.4->nbformat->jupyter-server<2.0.0,>=0.3.0->voila) (1.6.0)\n",
      "Requirement already satisfied: setuptools in e:\\programfiles\\python\\python3_7\\lib\\site-packages (from jsonschema!=2.5.0,>=2.4->nbformat->jupyter-server<2.0.0,>=0.3.0->voila) (41.2.0)\n",
      "Requirement already satisfied: zipp>=0.5 in e:\\programfiles\\python\\python3_7\\lib\\site-packages (from importlib-metadata->jsonschema!=2.5.0,>=2.4->nbformat->jupyter-server<2.0.0,>=0.3.0->voila) (3.1.0)\n",
      "Installing collected packages: nbconvert\n",
      "  Attempting uninstall: nbconvert\n",
      "    Found existing installation: nbconvert 5.6.1\n",
      "    Uninstalling nbconvert-5.6.1:\n",
      "      Successfully uninstalled nbconvert-5.6.1\n",
      "Successfully installed nbconvert-6.4.1\n"
     ]
    },
    {
     "name": "stderr",
     "output_type": "stream",
     "text": [
      "WARNING: Ignoring invalid distribution -ip (e:\\programfiles\\python\\python3_7\\lib\\site-packages)\n",
      "WARNING: Ignoring invalid distribution -ip (e:\\programfiles\\python\\python3_7\\lib\\site-packages)\n",
      "WARNING: Ignoring invalid distribution -ip (e:\\programfiles\\python\\python3_7\\lib\\site-packages)\n",
      "    WARNING: Ignoring invalid distribution -ip (e:\\programfiles\\python\\python3_7\\lib\\site-packages)\n",
      "WARNING: Ignoring invalid distribution -ip (e:\\programfiles\\python\\python3_7\\lib\\site-packages)\n",
      "ERROR: pip's dependency resolver does not currently take into account all the packages that are installed. This behaviour is the source of the following dependency conflicts.\n",
      "nbdev 1.1.23 requires nbconvert<6, but you have nbconvert 6.4.1 which is incompatible.\n",
      "WARNING: Ignoring invalid distribution -ip (e:\\programfiles\\python\\python3_7\\lib\\site-packages)\n",
      "WARNING: Ignoring invalid distribution -ip (e:\\programfiles\\python\\python3_7\\lib\\site-packages)\n",
      "WARNING: Ignoring invalid distribution -ip (e:\\programfiles\\python\\python3_7\\lib\\site-packages)\n",
      "WARNING: You are using pip version 21.3.1; however, version 22.0.3 is available.\n",
      "You should consider upgrading via the 'e:\\programfiles\\python\\python3_7\\python.exe -m pip install --upgrade pip' command.\n"
     ]
    }
   ],
   "source": [
    "!pip install voila"
   ]
  },
  {
   "cell_type": "code",
   "execution_count": 4,
   "metadata": {},
   "outputs": [
    {
     "name": "stderr",
     "output_type": "stream",
     "text": [
      "Enabling: voila\n",
      "- Writing config: e:\\programfiles\\python\\python3_7\\etc\\jupyter\n",
      "    - Validating...\n",
      "      voila 0.3.1 ok\n"
     ]
    }
   ],
   "source": [
    "!jupyter serverextension enable --sys-prefix voila "
   ]
  },
  {
   "cell_type": "code",
   "execution_count": 6,
   "metadata": {},
   "outputs": [],
   "source": [
    "import pathlib\n",
    "temp = pathlib.PosixPath\n",
    "pathlib.PosixPath = pathlib.WindowsPath"
   ]
  },
  {
   "cell_type": "code",
   "execution_count": 7,
   "metadata": {
    "scrolled": true
   },
   "outputs": [],
   "source": [
    "learn_inf = load_learner('export.pkl')"
   ]
  },
  {
   "cell_type": "code",
   "execution_count": 8,
   "metadata": {},
   "outputs": [],
   "source": [
    "btn_run = widgets.Button(description='Classify')\n",
    "lbl_pred = widgets.Label()\n",
    "out_pl = widgets.Output()\n",
    "#out_pl.clear_output()\n",
    "#with out_pl: display(img.to_thumb(128,128))\n",
    "#out_pl"
   ]
  },
  {
   "cell_type": "code",
   "execution_count": 9,
   "metadata": {},
   "outputs": [],
   "source": [
    "def on_click_classify(change):\n",
    "    img = PILImage.create(btn_upload.data[-1])\n",
    "    out_pl.clear_output()\n",
    "    with out_pl: display(img.to_thumb(128,128))\n",
    "    pred,pred_idx,probs = learn_inf.predict(img)\n",
    "    lbl_pred.value = f'Prediction: {pred}; Probability: {probs[pred_idx]:.04f}'\n",
    "\n",
    "btn_run.on_click(on_click_classify)"
   ]
  },
  {
   "cell_type": "code",
   "execution_count": 10,
   "metadata": {},
   "outputs": [],
   "source": [
    "btn_upload = widgets.FileUpload()"
   ]
  },
  {
   "cell_type": "code",
   "execution_count": null,
   "metadata": {},
   "outputs": [],
   "source": [
    "#hide_output\n",
    "VBox([widgets.Label('Select your bear!'), \n",
    "      btn_upload, btn_run, out_pl, lbl_pred])"
   ]
  },
  {
   "cell_type": "code",
   "execution_count": null,
   "metadata": {},
   "outputs": [],
   "source": []
  }
 ],
 "metadata": {
  "kernelspec": {
   "display_name": "Python 3",
   "language": "python",
   "name": "python3"
  },
  "language_info": {
   "codemirror_mode": {
    "name": "ipython",
    "version": 3
   },
   "file_extension": ".py",
   "mimetype": "text/x-python",
   "name": "python",
   "nbconvert_exporter": "python",
   "pygments_lexer": "ipython3",
   "version": "3.7.7"
  },
  "toc": {
   "base_numbering": 1,
   "nav_menu": {},
   "number_sections": true,
   "sideBar": true,
   "skip_h1_title": false,
   "title_cell": "Table of Contents",
   "title_sidebar": "Contents",
   "toc_cell": false,
   "toc_position": {},
   "toc_section_display": true,
   "toc_window_display": false
  },
  "varInspector": {
   "cols": {
    "lenName": 16,
    "lenType": 16,
    "lenVar": 40
   },
   "kernels_config": {
    "python": {
     "delete_cmd_postfix": "",
     "delete_cmd_prefix": "del ",
     "library": "var_list.py",
     "varRefreshCmd": "print(var_dic_list())"
    },
    "r": {
     "delete_cmd_postfix": ") ",
     "delete_cmd_prefix": "rm(",
     "library": "var_list.r",
     "varRefreshCmd": "cat(var_dic_list()) "
    }
   },
   "types_to_exclude": [
    "module",
    "function",
    "builtin_function_or_method",
    "instance",
    "_Feature"
   ],
   "window_display": false
  }
 },
 "nbformat": 4,
 "nbformat_minor": 4
}
